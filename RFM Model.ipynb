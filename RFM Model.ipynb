{
 "cells": [
  {
   "cell_type": "code",
   "execution_count": 2,
   "metadata": {},
   "outputs": [],
   "source": [
    "import pandas as pd\n",
    "import numpy as np\n",
    "from pandas import DataFrame, Series\n",
    "import seaborn as sns\n",
    "import matplotlib.pyplot as plt\n",
    "plt.style.use('fivethirtyeight')\n",
    "\n",
    "%matplotlib inline\n",
    "from warnings import filterwarnings\n",
    "filterwarnings('ignore')"
   ]
  },
  {
   "cell_type": "code",
   "execution_count": 3,
   "metadata": {},
   "outputs": [],
   "source": [
    "df = pd.read_csv('North_American_Superstore.csv',encoding= 'unicode_escape')"
   ]
  },
  {
   "cell_type": "code",
   "execution_count": 4,
   "metadata": {},
   "outputs": [
    {
     "data": {
      "text/html": [
       "<div>\n",
       "<style scoped>\n",
       "    .dataframe tbody tr th:only-of-type {\n",
       "        vertical-align: middle;\n",
       "    }\n",
       "\n",
       "    .dataframe tbody tr th {\n",
       "        vertical-align: top;\n",
       "    }\n",
       "\n",
       "    .dataframe thead th {\n",
       "        text-align: right;\n",
       "    }\n",
       "</style>\n",
       "<table border=\"1\" class=\"dataframe\">\n",
       "  <thead>\n",
       "    <tr style=\"text-align: right;\">\n",
       "      <th></th>\n",
       "      <th>Row ID</th>\n",
       "      <th>Order ID</th>\n",
       "      <th>Order Date</th>\n",
       "      <th>Ship Date</th>\n",
       "      <th>Ship Mode</th>\n",
       "      <th>Customer ID</th>\n",
       "      <th>Customer Name</th>\n",
       "      <th>Segment</th>\n",
       "      <th>Country</th>\n",
       "      <th>City</th>\n",
       "      <th>...</th>\n",
       "      <th>Postal Code</th>\n",
       "      <th>Region</th>\n",
       "      <th>Product ID</th>\n",
       "      <th>Category</th>\n",
       "      <th>Sub-Category</th>\n",
       "      <th>Product Name</th>\n",
       "      <th>Sales</th>\n",
       "      <th>Quantity</th>\n",
       "      <th>Discount</th>\n",
       "      <th>Profit</th>\n",
       "    </tr>\n",
       "  </thead>\n",
       "  <tbody>\n",
       "    <tr>\n",
       "      <th>0</th>\n",
       "      <td>7981</td>\n",
       "      <td>CA-2015-103800</td>\n",
       "      <td>2015/1/3</td>\n",
       "      <td>2015/1/7</td>\n",
       "      <td>Standard Class</td>\n",
       "      <td>DP-13000</td>\n",
       "      <td>Darren Powers</td>\n",
       "      <td>Consumer</td>\n",
       "      <td>United States</td>\n",
       "      <td>Houston</td>\n",
       "      <td>...</td>\n",
       "      <td>77095.0</td>\n",
       "      <td>Central</td>\n",
       "      <td>OFF-PA-10000174</td>\n",
       "      <td>Office Supplies</td>\n",
       "      <td>Paper</td>\n",
       "      <td>Message Book, Wirebound, Four 5 1/2\" X 4\" Form...</td>\n",
       "      <td>16.448</td>\n",
       "      <td>2</td>\n",
       "      <td>0.2</td>\n",
       "      <td>5.5512</td>\n",
       "    </tr>\n",
       "    <tr>\n",
       "      <th>1</th>\n",
       "      <td>740</td>\n",
       "      <td>CA-2015-112326</td>\n",
       "      <td>2015/1/4</td>\n",
       "      <td>2015/1/8</td>\n",
       "      <td>Standard Class</td>\n",
       "      <td>PO-19195</td>\n",
       "      <td>Phillina Ober</td>\n",
       "      <td>Home Office</td>\n",
       "      <td>United States</td>\n",
       "      <td>Naperville</td>\n",
       "      <td>...</td>\n",
       "      <td>60540.0</td>\n",
       "      <td>Central</td>\n",
       "      <td>OFF-LA-10003223</td>\n",
       "      <td>Office Supplies</td>\n",
       "      <td>Labels</td>\n",
       "      <td>Avery 508</td>\n",
       "      <td>11.784</td>\n",
       "      <td>3</td>\n",
       "      <td>0.2</td>\n",
       "      <td>4.2717</td>\n",
       "    </tr>\n",
       "    <tr>\n",
       "      <th>2</th>\n",
       "      <td>741</td>\n",
       "      <td>CA-2015-112326</td>\n",
       "      <td>2015/1/4</td>\n",
       "      <td>2015/1/8</td>\n",
       "      <td>Standard Class</td>\n",
       "      <td>PO-19195</td>\n",
       "      <td>Phillina Ober</td>\n",
       "      <td>Home Office</td>\n",
       "      <td>United States</td>\n",
       "      <td>Naperville</td>\n",
       "      <td>...</td>\n",
       "      <td>60540.0</td>\n",
       "      <td>Central</td>\n",
       "      <td>OFF-ST-10002743</td>\n",
       "      <td>Office Supplies</td>\n",
       "      <td>Storage</td>\n",
       "      <td>SAFCO Boltless Steel Shelving</td>\n",
       "      <td>272.736</td>\n",
       "      <td>3</td>\n",
       "      <td>0.2</td>\n",
       "      <td>-64.7748</td>\n",
       "    </tr>\n",
       "  </tbody>\n",
       "</table>\n",
       "<p>3 rows × 21 columns</p>\n",
       "</div>"
      ],
      "text/plain": [
       "   Row ID        Order ID Order Date Ship Date       Ship Mode Customer ID  \\\n",
       "0    7981  CA-2015-103800   2015/1/3  2015/1/7  Standard Class    DP-13000   \n",
       "1     740  CA-2015-112326   2015/1/4  2015/1/8  Standard Class    PO-19195   \n",
       "2     741  CA-2015-112326   2015/1/4  2015/1/8  Standard Class    PO-19195   \n",
       "\n",
       "   Customer Name      Segment        Country        City  ... Postal Code  \\\n",
       "0  Darren Powers     Consumer  United States     Houston  ...     77095.0   \n",
       "1  Phillina Ober  Home Office  United States  Naperville  ...     60540.0   \n",
       "2  Phillina Ober  Home Office  United States  Naperville  ...     60540.0   \n",
       "\n",
       "    Region       Product ID         Category Sub-Category  \\\n",
       "0  Central  OFF-PA-10000174  Office Supplies        Paper   \n",
       "1  Central  OFF-LA-10003223  Office Supplies       Labels   \n",
       "2  Central  OFF-ST-10002743  Office Supplies      Storage   \n",
       "\n",
       "                                        Product Name    Sales  Quantity  \\\n",
       "0  Message Book, Wirebound, Four 5 1/2\" X 4\" Form...   16.448         2   \n",
       "1                                          Avery 508   11.784         3   \n",
       "2                      SAFCO Boltless Steel Shelving  272.736         3   \n",
       "\n",
       "   Discount   Profit  \n",
       "0       0.2   5.5512  \n",
       "1       0.2   4.2717  \n",
       "2       0.2 -64.7748  \n",
       "\n",
       "[3 rows x 21 columns]"
      ]
     },
     "execution_count": 4,
     "metadata": {},
     "output_type": "execute_result"
    }
   ],
   "source": [
    "df.head(3)"
   ]
  },
  {
   "cell_type": "code",
   "execution_count": 5,
   "metadata": {},
   "outputs": [],
   "source": [
    "# remove the space in the columns name\n",
    "df.rename(columns = lambda x: x.replace(' ',''),inplace = True)"
   ]
  },
  {
   "cell_type": "markdown",
   "metadata": {},
   "source": [
    "## 1. Data Preprocessing"
   ]
  },
  {
   "cell_type": "markdown",
   "metadata": {},
   "source": [
    "### 1.1 Data Overview"
   ]
  },
  {
   "cell_type": "code",
   "execution_count": 6,
   "metadata": {},
   "outputs": [
    {
     "name": "stdout",
     "output_type": "stream",
     "text": [
      "The dataset contains 9994 rows and 21 columns\n",
      "****************************************************************************************************\n",
      "<class 'pandas.core.frame.DataFrame'>\n",
      "RangeIndex: 9994 entries, 0 to 9993\n",
      "Data columns (total 21 columns):\n",
      " #   Column        Non-Null Count  Dtype  \n",
      "---  ------        --------------  -----  \n",
      " 0   RowID         9994 non-null   int64  \n",
      " 1   OrderID       9994 non-null   object \n",
      " 2   OrderDate     9994 non-null   object \n",
      " 3   ShipDate      9994 non-null   object \n",
      " 4   ShipMode      9994 non-null   object \n",
      " 5   CustomerID    9994 non-null   object \n",
      " 6   CustomerName  9994 non-null   object \n",
      " 7   Segment       9994 non-null   object \n",
      " 8   Country       9994 non-null   object \n",
      " 9   City          9994 non-null   object \n",
      " 10  State         9994 non-null   object \n",
      " 11  PostalCode    9983 non-null   float64\n",
      " 12  Region        9994 non-null   object \n",
      " 13  ProductID     9994 non-null   object \n",
      " 14  Category      9994 non-null   object \n",
      " 15  Sub-Category  9994 non-null   object \n",
      " 16  ProductName   9994 non-null   object \n",
      " 17  Sales         9994 non-null   float64\n",
      " 18  Quantity      9994 non-null   int64  \n",
      " 19  Discount      9994 non-null   float64\n",
      " 20  Profit        9994 non-null   float64\n",
      "dtypes: float64(4), int64(2), object(15)\n",
      "memory usage: 1.6+ MB\n",
      "None\n",
      "**100\n",
      "             RowID    PostalCode         Sales     Quantity     Discount  \\\n",
      "count  9994.000000   9983.000000   9994.000000  9994.000000  9994.000000   \n",
      "mean   4997.500000  55245.233297    229.858001     3.789574     0.156203   \n",
      "std    2885.163629  32038.715955    623.245101     2.225110     0.206452   \n",
      "min       1.000000   1040.000000      0.444000     1.000000     0.000000   \n",
      "25%    2499.250000  23223.000000     17.280000     2.000000     0.000000   \n",
      "50%    4997.500000  57103.000000     54.490000     3.000000     0.200000   \n",
      "75%    7495.750000  90008.000000    209.940000     5.000000     0.200000   \n",
      "max    9994.000000  99301.000000  22638.480000    14.000000     0.800000   \n",
      "\n",
      "            Profit  \n",
      "count  9994.000000  \n",
      "mean     28.656896  \n",
      "std     234.260108  \n",
      "min   -6599.978000  \n",
      "25%       1.728750  \n",
      "50%       8.666500  \n",
      "75%      29.364000  \n",
      "max    8399.976000  \n"
     ]
    }
   ],
   "source": [
    "def df_describe(df):\n",
    "    print('The dataset contains {} rows and {} columns'.format(df.shape[0],df.shape[1]))\n",
    "    print('*'*100)\n",
    "    print(df.info())\n",
    "    print('**100')\n",
    "    print(df.describe())\n",
    "\n",
    "df_describe(df) "
   ]
  },
  {
   "cell_type": "markdown",
   "metadata": {},
   "source": [
    "### 1.2 Remove Duplicate Value"
   ]
  },
  {
   "cell_type": "code",
   "execution_count": 7,
   "metadata": {},
   "outputs": [],
   "source": [
    "df = df.drop_duplicates() "
   ]
  },
  {
   "cell_type": "markdown",
   "metadata": {},
   "source": [
    "### 1.3 Handle Missing Value"
   ]
  },
  {
   "cell_type": "code",
   "execution_count": 8,
   "metadata": {},
   "outputs": [],
   "source": [
    "df.isnull().sum()\n",
    "df = df[~df['PostalCode'].isnull()] "
   ]
  },
  {
   "cell_type": "markdown",
   "metadata": {},
   "source": [
    "### 1.4 Check for potential outliers"
   ]
  },
  {
   "cell_type": "code",
   "execution_count": 9,
   "metadata": {},
   "outputs": [
    {
     "data": {
      "text/html": [
       "<div>\n",
       "<style scoped>\n",
       "    .dataframe tbody tr th:only-of-type {\n",
       "        vertical-align: middle;\n",
       "    }\n",
       "\n",
       "    .dataframe tbody tr th {\n",
       "        vertical-align: top;\n",
       "    }\n",
       "\n",
       "    .dataframe thead th {\n",
       "        text-align: right;\n",
       "    }\n",
       "</style>\n",
       "<table border=\"1\" class=\"dataframe\">\n",
       "  <thead>\n",
       "    <tr style=\"text-align: right;\">\n",
       "      <th></th>\n",
       "      <th>RowID</th>\n",
       "      <th>OrderID</th>\n",
       "      <th>OrderDate</th>\n",
       "      <th>ShipDate</th>\n",
       "      <th>ShipMode</th>\n",
       "      <th>CustomerID</th>\n",
       "      <th>CustomerName</th>\n",
       "      <th>Segment</th>\n",
       "      <th>Country</th>\n",
       "      <th>City</th>\n",
       "      <th>...</th>\n",
       "      <th>PostalCode</th>\n",
       "      <th>Region</th>\n",
       "      <th>ProductID</th>\n",
       "      <th>Category</th>\n",
       "      <th>Sub-Category</th>\n",
       "      <th>ProductName</th>\n",
       "      <th>Sales</th>\n",
       "      <th>Quantity</th>\n",
       "      <th>Discount</th>\n",
       "      <th>Profit</th>\n",
       "    </tr>\n",
       "  </thead>\n",
       "  <tbody>\n",
       "  </tbody>\n",
       "</table>\n",
       "<p>0 rows × 21 columns</p>\n",
       "</div>"
      ],
      "text/plain": [
       "Empty DataFrame\n",
       "Columns: [RowID, OrderID, OrderDate, ShipDate, ShipMode, CustomerID, CustomerName, Segment, Country, City, State, PostalCode, Region, ProductID, Category, Sub-Category, ProductName, Sales, Quantity, Discount, Profit]\n",
       "Index: []\n",
       "\n",
       "[0 rows x 21 columns]"
      ]
     },
     "execution_count": 9,
     "metadata": {},
     "output_type": "execute_result"
    }
   ],
   "source": [
    "# Check if there is any negative value in Sales or Quantity Columns\n",
    "df.loc[(df.Sales< 0) | (df.Quantity<0)]"
   ]
  },
  {
   "cell_type": "markdown",
   "metadata": {},
   "source": [
    "There is no outliers needed to be removed"
   ]
  },
  {
   "cell_type": "markdown",
   "metadata": {},
   "source": [
    "### 1.5 Convert Date columns from str type to timestamp\n"
   ]
  },
  {
   "cell_type": "code",
   "execution_count": 10,
   "metadata": {},
   "outputs": [
    {
     "name": "stdout",
     "output_type": "stream",
     "text": [
      "<class 'pandas.core.frame.DataFrame'>\n",
      "Int64Index: 9983 entries, 0 to 9993\n",
      "Data columns (total 21 columns):\n",
      " #   Column        Non-Null Count  Dtype         \n",
      "---  ------        --------------  -----         \n",
      " 0   RowID         9983 non-null   int64         \n",
      " 1   OrderID       9983 non-null   object        \n",
      " 2   OrderDate     9983 non-null   datetime64[ns]\n",
      " 3   ShipDate      9983 non-null   datetime64[ns]\n",
      " 4   ShipMode      9983 non-null   object        \n",
      " 5   CustomerID    9983 non-null   object        \n",
      " 6   CustomerName  9983 non-null   object        \n",
      " 7   Segment       9983 non-null   object        \n",
      " 8   Country       9983 non-null   object        \n",
      " 9   City          9983 non-null   object        \n",
      " 10  State         9983 non-null   object        \n",
      " 11  PostalCode    9983 non-null   float64       \n",
      " 12  Region        9983 non-null   object        \n",
      " 13  ProductID     9983 non-null   object        \n",
      " 14  Category      9983 non-null   object        \n",
      " 15  Sub-Category  9983 non-null   object        \n",
      " 16  ProductName   9983 non-null   object        \n",
      " 17  Sales         9983 non-null   float64       \n",
      " 18  Quantity      9983 non-null   int64         \n",
      " 19  Discount      9983 non-null   float64       \n",
      " 20  Profit        9983 non-null   float64       \n",
      "dtypes: datetime64[ns](2), float64(4), int64(2), object(13)\n",
      "memory usage: 1.7+ MB\n"
     ]
    }
   ],
   "source": [
    "date_col = ['OrderDate','ShipDate']\n",
    "for col in date_col:\n",
    "    df[col] = pd.to_datetime(df[col])\n",
    "df.info()"
   ]
  },
  {
   "cell_type": "code",
   "execution_count": 11,
   "metadata": {},
   "outputs": [
    {
     "name": "stdout",
     "output_type": "stream",
     "text": [
      "The latest order date： 2018-12-30 00:00:00\n",
      "The earliest order date： 2015-01-03 00:00:00\n"
     ]
    }
   ],
   "source": [
    "print('The latest order date：',df['OrderDate'].max())\n",
    "print('The earliest order date：',df['OrderDate'].min())"
   ]
  },
  {
   "cell_type": "markdown",
   "metadata": {},
   "source": [
    "## 2. RFM Segmentation"
   ]
  },
  {
   "cell_type": "markdown",
   "metadata": {},
   "source": [
    "RFM segmentation is a great method to identify and analyze groups of customers for special treatment. It helps company to make and exceute marketing plans to target specific clusters of customers that are much more relevant for their particular behavior – and thus generate much higher rates of response, plus increased loyalty and customer lifetime value. RFM stands for recency, frequency and monetary.\n",
    "\n"
   ]
  },
  {
   "cell_type": "markdown",
   "metadata": {},
   "source": [
    "* Recency: The number of days that have passed since the customer last purchased ( How recently do they purchase? )\n",
    "\n",
    "* Frequency: The number of purchases by the customer during a particular period of time ( How often do they purchase ? )\n",
    "\n",
    "* Monetary:  The amount that the customer spend during a particular period of time ( How much do they spend ? )\n"
   ]
  },
  {
   "cell_type": "markdown",
   "metadata": {},
   "source": [
    "Customers can be divivded into:\n",
    "\n",
    "* Best Cusotmer：They transacted recently, do so often and spend more than other customers\n",
    "\n",
    "\n",
    "* Churned Best Customers: They transacted frequently and spent a lot, but it’s been a long time since they’ve transacted \n",
    "\n",
    "\n",
    "* Lowest-Spending Active Loyal Customers：They transacted recently and do so often, but spend the least\n",
    "\n",
    "\n",
    "* High-spending New Customers：They transacted only once, but very recently and they spent a lot"
   ]
  },
  {
   "cell_type": "markdown",
   "metadata": {},
   "source": [
    "### 2.1 Obtain the  frequency of each customer(customerID) across the entire time period\n"
   ]
  },
  {
   "cell_type": "code",
   "execution_count": 80,
   "metadata": {},
   "outputs": [
    {
     "data": {
      "text/html": [
       "<div>\n",
       "<style scoped>\n",
       "    .dataframe tbody tr th:only-of-type {\n",
       "        vertical-align: middle;\n",
       "    }\n",
       "\n",
       "    .dataframe tbody tr th {\n",
       "        vertical-align: top;\n",
       "    }\n",
       "\n",
       "    .dataframe thead th {\n",
       "        text-align: right;\n",
       "    }\n",
       "</style>\n",
       "<table border=\"1\" class=\"dataframe\">\n",
       "  <thead>\n",
       "    <tr style=\"text-align: right;\">\n",
       "      <th></th>\n",
       "      <th>Frequency</th>\n",
       "    </tr>\n",
       "    <tr>\n",
       "      <th>CustomerID</th>\n",
       "      <th></th>\n",
       "    </tr>\n",
       "  </thead>\n",
       "  <tbody>\n",
       "    <tr>\n",
       "      <th>AA-10315</th>\n",
       "      <td>5</td>\n",
       "    </tr>\n",
       "    <tr>\n",
       "      <th>AA-10375</th>\n",
       "      <td>9</td>\n",
       "    </tr>\n",
       "    <tr>\n",
       "      <th>AA-10480</th>\n",
       "      <td>4</td>\n",
       "    </tr>\n",
       "    <tr>\n",
       "      <th>AA-10645</th>\n",
       "      <td>6</td>\n",
       "    </tr>\n",
       "    <tr>\n",
       "      <th>AB-10015</th>\n",
       "      <td>3</td>\n",
       "    </tr>\n",
       "    <tr>\n",
       "      <th>...</th>\n",
       "      <td>...</td>\n",
       "    </tr>\n",
       "    <tr>\n",
       "      <th>XP-21865</th>\n",
       "      <td>11</td>\n",
       "    </tr>\n",
       "    <tr>\n",
       "      <th>YC-21895</th>\n",
       "      <td>5</td>\n",
       "    </tr>\n",
       "    <tr>\n",
       "      <th>YS-21880</th>\n",
       "      <td>8</td>\n",
       "    </tr>\n",
       "    <tr>\n",
       "      <th>ZC-21910</th>\n",
       "      <td>13</td>\n",
       "    </tr>\n",
       "    <tr>\n",
       "      <th>ZD-21925</th>\n",
       "      <td>5</td>\n",
       "    </tr>\n",
       "  </tbody>\n",
       "</table>\n",
       "<p>793 rows × 1 columns</p>\n",
       "</div>"
      ],
      "text/plain": [
       "            Frequency\n",
       "CustomerID           \n",
       "AA-10315            5\n",
       "AA-10375            9\n",
       "AA-10480            4\n",
       "AA-10645            6\n",
       "AB-10015            3\n",
       "...               ...\n",
       "XP-21865           11\n",
       "YC-21895            5\n",
       "YS-21880            8\n",
       "ZC-21910           13\n",
       "ZD-21925            5\n",
       "\n",
       "[793 rows x 1 columns]"
      ]
     },
     "execution_count": 80,
     "metadata": {},
     "output_type": "execute_result"
    }
   ],
   "source": [
    "df_copy = df.copy()\n",
    "df_copy.drop_duplicates(subset=['OrderID'],keep='first',inplace=True) # removed the duplicate orderID \n",
    "df_freq = df_copy.groupby('CustomerID',as_index=False).OrderID.count().rename(columns = {'OrderID':'Frequency'})\n",
    "df_freq.set_index('CustomerID')"
   ]
  },
  {
   "cell_type": "markdown",
   "metadata": {},
   "source": [
    "### 2.2 Obtain the total money spent (Monetary) and the days since the customers' last transaction(Recency)"
   ]
  },
  {
   "cell_type": "code",
   "execution_count": 81,
   "metadata": {},
   "outputs": [
    {
     "data": {
      "text/html": [
       "<div>\n",
       "<style scoped>\n",
       "    .dataframe tbody tr th:only-of-type {\n",
       "        vertical-align: middle;\n",
       "    }\n",
       "\n",
       "    .dataframe tbody tr th {\n",
       "        vertical-align: top;\n",
       "    }\n",
       "\n",
       "    .dataframe thead th {\n",
       "        text-align: right;\n",
       "    }\n",
       "</style>\n",
       "<table border=\"1\" class=\"dataframe\">\n",
       "  <thead>\n",
       "    <tr style=\"text-align: right;\">\n",
       "      <th></th>\n",
       "      <th>Monetary</th>\n",
       "      <th>Recency</th>\n",
       "    </tr>\n",
       "    <tr>\n",
       "      <th>CustomerID</th>\n",
       "      <th></th>\n",
       "      <th></th>\n",
       "    </tr>\n",
       "  </thead>\n",
       "  <tbody>\n",
       "    <tr>\n",
       "      <th>AA-10315</th>\n",
       "      <td>5563.560</td>\n",
       "      <td>186</td>\n",
       "    </tr>\n",
       "    <tr>\n",
       "      <th>AA-10375</th>\n",
       "      <td>1056.390</td>\n",
       "      <td>21</td>\n",
       "    </tr>\n",
       "    <tr>\n",
       "      <th>AA-10480</th>\n",
       "      <td>1790.512</td>\n",
       "      <td>261</td>\n",
       "    </tr>\n",
       "    <tr>\n",
       "      <th>AA-10645</th>\n",
       "      <td>5086.935</td>\n",
       "      <td>57</td>\n",
       "    </tr>\n",
       "    <tr>\n",
       "      <th>AB-10015</th>\n",
       "      <td>886.156</td>\n",
       "      <td>417</td>\n",
       "    </tr>\n",
       "  </tbody>\n",
       "</table>\n",
       "</div>"
      ],
      "text/plain": [
       "            Monetary  Recency\n",
       "CustomerID                   \n",
       "AA-10315    5563.560      186\n",
       "AA-10375    1056.390       21\n",
       "AA-10480    1790.512      261\n",
       "AA-10645    5086.935       57\n",
       "AB-10015     886.156      417"
      ]
     },
     "execution_count": 81,
     "metadata": {},
     "output_type": "execute_result"
    }
   ],
   "source": [
    "df_group = df.groupby('CustomerID')\n",
    "df_rm = df_group.agg({'Sales':'sum','OrderDate':'max'}).rename(columns={'Sales':'Monetary'})\n",
    "df_rm['Recency'] = (pd.to_datetime('2019-01-01') - df_rm['OrderDate']).dt.days\n",
    "df_rm = df_rm.drop('OrderDate',axis=1)\n",
    "df_rm.head()"
   ]
  },
  {
   "cell_type": "markdown",
   "metadata": {},
   "source": [
    "### 2.3  Obtain Frequency per year\n",
    " "
   ]
  },
  {
   "cell_type": "markdown",
   "metadata": {},
   "source": [
    "### 2.4 Merge Recency, Frequency, Monetary and Profit by CustomerID "
   ]
  },
  {
   "cell_type": "code",
   "execution_count": 89,
   "metadata": {},
   "outputs": [
    {
     "data": {
      "text/html": [
       "<div>\n",
       "<style scoped>\n",
       "    .dataframe tbody tr th:only-of-type {\n",
       "        vertical-align: middle;\n",
       "    }\n",
       "\n",
       "    .dataframe tbody tr th {\n",
       "        vertical-align: top;\n",
       "    }\n",
       "\n",
       "    .dataframe thead th {\n",
       "        text-align: right;\n",
       "    }\n",
       "</style>\n",
       "<table border=\"1\" class=\"dataframe\">\n",
       "  <thead>\n",
       "    <tr style=\"text-align: right;\">\n",
       "      <th></th>\n",
       "      <th>Monetary</th>\n",
       "      <th>Recency</th>\n",
       "      <th>Frequency</th>\n",
       "    </tr>\n",
       "    <tr>\n",
       "      <th>CustomerID</th>\n",
       "      <th></th>\n",
       "      <th></th>\n",
       "      <th></th>\n",
       "    </tr>\n",
       "  </thead>\n",
       "  <tbody>\n",
       "    <tr>\n",
       "      <th>AA-10315</th>\n",
       "      <td>5563.560</td>\n",
       "      <td>186</td>\n",
       "      <td>5</td>\n",
       "    </tr>\n",
       "    <tr>\n",
       "      <th>AA-10375</th>\n",
       "      <td>1056.390</td>\n",
       "      <td>21</td>\n",
       "      <td>9</td>\n",
       "    </tr>\n",
       "    <tr>\n",
       "      <th>AA-10480</th>\n",
       "      <td>1790.512</td>\n",
       "      <td>261</td>\n",
       "      <td>4</td>\n",
       "    </tr>\n",
       "    <tr>\n",
       "      <th>AA-10645</th>\n",
       "      <td>5086.935</td>\n",
       "      <td>57</td>\n",
       "      <td>6</td>\n",
       "    </tr>\n",
       "    <tr>\n",
       "      <th>AB-10015</th>\n",
       "      <td>886.156</td>\n",
       "      <td>417</td>\n",
       "      <td>3</td>\n",
       "    </tr>\n",
       "  </tbody>\n",
       "</table>\n",
       "</div>"
      ],
      "text/plain": [
       "            Monetary  Recency  Frequency\n",
       "CustomerID                              \n",
       "AA-10315    5563.560      186          5\n",
       "AA-10375    1056.390       21          9\n",
       "AA-10480    1790.512      261          4\n",
       "AA-10645    5086.935       57          6\n",
       "AB-10015     886.156      417          3"
      ]
     },
     "execution_count": 89,
     "metadata": {},
     "output_type": "execute_result"
    }
   ],
   "source": [
    "df_RFM = df_rm.merge(df_freq,on = 'CustomerID').set_index('CustomerID')\n",
    "df_RFM.head(5)"
   ]
  },
  {
   "cell_type": "markdown",
   "metadata": {},
   "source": [
    "### 2.5 Divide the RFM segments based on the median of each measure"
   ]
  },
  {
   "cell_type": "code",
   "execution_count": 83,
   "metadata": {},
   "outputs": [
    {
     "data": {
      "text/plain": [
       "(78.0, 6.0, 2243.5099999999998)"
      ]
     },
     "execution_count": 83,
     "metadata": {},
     "output_type": "execute_result"
    }
   ],
   "source": [
    "r_med = df_RFM['Recency'].median()\n",
    "f_med = df_RFM['Frequency'].median()\n",
    "m_med = df_RFM['Monetary'].median()\n",
    "r_med,f_med,m_med"
   ]
  },
  {
   "cell_type": "code",
   "execution_count": 95,
   "metadata": {},
   "outputs": [],
   "source": [
    "# Divide customer types\n",
    "\n",
    "def customer_type_func(df): \n",
    "    customer_type_list = []\n",
    "    for i in range(len(df)):\n",
    "        if df.iloc[i,1]>=r_med and df.iloc[i,2]>=f_med and df.iloc[i,0]>=m_med:\n",
    "            customer_type_list.append('Churned Best Customers')  \n",
    "        elif  df.iloc[i,1]< r_med and df.iloc[i,2]<f_med and df.iloc[i,0]>=m_med:\n",
    "            customer_type_list.append(\"High-spending New Customers\")  \n",
    "        elif  df.iloc[i,1]< r_med and df.iloc[i,2]>=f_med and df.iloc[i,0]>=m_med:\n",
    "            customer_type_list.append('Best Cusotmer')  \n",
    "        elif  df.iloc[i,1] < r_med and df.iloc[i,2]>=f_med and df.iloc[i,0]<m_med:\n",
    "            customer_type_list.append(\"Lowest-Spending Active Loyal Customers \") \n",
    "        else:\n",
    "            customer_type_list.append('Normal')\n",
    "    df['CustomerType'] = customer_type_list\n",
    "customer_type_func(df_RFM)"
   ]
  },
  {
   "cell_type": "code",
   "execution_count": 96,
   "metadata": {},
   "outputs": [
    {
     "data": {
      "text/html": [
       "<div>\n",
       "<style scoped>\n",
       "    .dataframe tbody tr th:only-of-type {\n",
       "        vertical-align: middle;\n",
       "    }\n",
       "\n",
       "    .dataframe tbody tr th {\n",
       "        vertical-align: top;\n",
       "    }\n",
       "\n",
       "    .dataframe thead th {\n",
       "        text-align: right;\n",
       "    }\n",
       "</style>\n",
       "<table border=\"1\" class=\"dataframe\">\n",
       "  <thead>\n",
       "    <tr style=\"text-align: right;\">\n",
       "      <th></th>\n",
       "      <th>Monetary</th>\n",
       "      <th>Recency</th>\n",
       "      <th>Frequency</th>\n",
       "      <th>CustomerType</th>\n",
       "    </tr>\n",
       "    <tr>\n",
       "      <th>CustomerID</th>\n",
       "      <th></th>\n",
       "      <th></th>\n",
       "      <th></th>\n",
       "      <th></th>\n",
       "    </tr>\n",
       "  </thead>\n",
       "  <tbody>\n",
       "    <tr>\n",
       "      <th>AA-10315</th>\n",
       "      <td>5563.560</td>\n",
       "      <td>186</td>\n",
       "      <td>5</td>\n",
       "      <td>Normal</td>\n",
       "    </tr>\n",
       "    <tr>\n",
       "      <th>AA-10375</th>\n",
       "      <td>1056.390</td>\n",
       "      <td>21</td>\n",
       "      <td>9</td>\n",
       "      <td>Lowest-Spending Active Loyal Customers</td>\n",
       "    </tr>\n",
       "    <tr>\n",
       "      <th>AA-10480</th>\n",
       "      <td>1790.512</td>\n",
       "      <td>261</td>\n",
       "      <td>4</td>\n",
       "      <td>Normal</td>\n",
       "    </tr>\n",
       "    <tr>\n",
       "      <th>AA-10645</th>\n",
       "      <td>5086.935</td>\n",
       "      <td>57</td>\n",
       "      <td>6</td>\n",
       "      <td>Best Cusotmer</td>\n",
       "    </tr>\n",
       "    <tr>\n",
       "      <th>AB-10015</th>\n",
       "      <td>886.156</td>\n",
       "      <td>417</td>\n",
       "      <td>3</td>\n",
       "      <td>Normal</td>\n",
       "    </tr>\n",
       "  </tbody>\n",
       "</table>\n",
       "</div>"
      ],
      "text/plain": [
       "            Monetary  Recency  Frequency  \\\n",
       "CustomerID                                 \n",
       "AA-10315    5563.560      186          5   \n",
       "AA-10375    1056.390       21          9   \n",
       "AA-10480    1790.512      261          4   \n",
       "AA-10645    5086.935       57          6   \n",
       "AB-10015     886.156      417          3   \n",
       "\n",
       "                                       CustomerType  \n",
       "CustomerID                                           \n",
       "AA-10315                                     Normal  \n",
       "AA-10375    Lowest-Spending Active Loyal Customers   \n",
       "AA-10480                                     Normal  \n",
       "AA-10645                              Best Cusotmer  \n",
       "AB-10015                                     Normal  "
      ]
     },
     "execution_count": 96,
     "metadata": {},
     "output_type": "execute_result"
    }
   ],
   "source": [
    "df_RFM.head(5)"
   ]
  },
  {
   "cell_type": "markdown",
   "metadata": {},
   "source": [
    "### 2.7 Visualization of  the customers' segments"
   ]
  },
  {
   "cell_type": "code",
   "execution_count": 97,
   "metadata": {},
   "outputs": [
    {
     "data": {
      "text/plain": [
       "Text(0.5, 1.0, 'Number of customers in each customer segments')"
      ]
     },
     "execution_count": 97,
     "metadata": {},
     "output_type": "execute_result"
    },
    {
     "data": {
      "image/png": "[encoded data removed]",
      "text/plain": [
       "<Figure size 432x288 with 1 Axes>"
      ]
     },
     "metadata": {
      "needs_background": "light"
     },
     "output_type": "display_data"
    }
   ],
   "source": [
    "df_RFM['CustomerType'].value_counts(ascending=True).plot(kind = 'barh')\n",
    "plt.title('Number of customers in each customer segments')"
   ]
  },
  {
   "cell_type": "code",
   "execution_count": 99,
   "metadata": {},
   "outputs": [
    {
     "data": {
      "text/plain": [
       "Text(0.5, 1.0, 'Percentage of customers in each segment')"
      ]
     },
     "execution_count": 99,
     "metadata": {},
     "output_type": "execute_result"
    },
    {
     "data": {
      "image/png": "[encoded data removed]",
      "text/plain": [
       "<Figure size 864x576 with 1 Axes>"
      ]
     },
     "metadata": {},
     "output_type": "display_data"
    }
   ],
   "source": [
    "fig1, ax1 = plt.subplots(figsize=(12, 8))\n",
    "labels=df_RFM.groupby('CustomerType').CustomerType.size().index\n",
    "customer_num=df_RFM.groupby('CustomerType').CustomerType.size()\n",
    "ax1.pie(customer_num,explode=explode,labels=labels,textprops={'fontsize':10},shadow=False,autopct='%.2f%%')\n",
    "ax1.axis('equal')\n",
    "ax1.set_title('Percentage of customers in each segment',fontsize=13)"
   ]
  },
  {
   "cell_type": "markdown",
   "metadata": {},
   "source": [
    "## 3. Summary"
   ]
  },
  {
   "cell_type": "markdown",
   "metadata": {},
   "source": [
    "We can see Normal customers group accounted for over 45% of the total customers. However, Normal customers should be excluded in our RFM segments. \n",
    "\n",
    "* Best Customer Group accounted for the most within the RFM segmentation. these customers likely generate a disproportionately high percentage of overall revenues and thus focusing on keeping them happy should be a top priority.Further analyzing their individual preferences will provide additional opportunities for even higher profibility.\n",
    "\n",
    "\n",
    "* Churned Best Customers accounted for 15% of the overall customers segment. Even though these valuale customer might stop purchasing for a period of long time and it's often challenging to re-engage churned customers, the high value of these customers makes it worthwhile trying. Like with the Best Customers group, it’s important to communicate with them on the basis of their specific preferences, as known from earlier transaction data.\n",
    "\n",
    "\n",
    "* Lowest-Spending Active Loyal Customers are active and loyal, but they are low spenders. Marketers should create campaigns for this group that make them feel valued, and incentivize them to increase their spend levels. As loyal customers, it often also pays to reward them with special offers if they spread the word about the brand to their friends, e.g., via social networks.\n",
    "\n",
    "\n",
    "* While maintaining a good relationship with existing customers, it's even more important to \"incubate\" new customer, especially for those who spent a lot on their first purchase. Like with the Best Customers group, it’s important to make them feel valued and appreciated by offer them terrifc incentives and excellent customer support to continue interacting with the brand."
   ]
  }
 ],
 "metadata": {
  "kernelspec": {
   "display_name": "Python 3",
   "language": "python",
   "name": "python3"
  },
  "language_info": {
   "codemirror_mode": {
    "name": "ipython",
    "version": 3
   },
   "file_extension": ".py",
   "mimetype": "text/x-python",
   "name": "python",
   "nbconvert_exporter": "python",
   "pygments_lexer": "ipython3",
   "version": "3.8.3"
  }
 },
 "nbformat": 4,
 "nbformat_minor": 4
}
